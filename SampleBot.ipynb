{
 "cells": [
  {
   "cell_type": "code",
   "execution_count": 1,
   "id": "stopped-split",
   "metadata": {},
   "outputs": [],
   "source": [
    "import math\n",
    "\n",
    "from PIL import Image, ImageColor\n",
    "import IPython.display\n",
    "\n",
    "from Position import Position\n",
    "from Piece import Piece\n",
    "from Board import Board\n",
    "from Game import Game\n",
    "from MinMaxBot import MinMaxBot"
   ]
  },
  {
   "cell_type": "code",
   "execution_count": null,
   "id": "unknown-infrared",
   "metadata": {},
   "outputs": [],
   "source": [
    "# See Game.py to check, how an implementation of a bot should look like so that it can play games in Engine\n",
    "\n",
    "# A simple bot, which chooses the first white piece and moves it one field forward-right,\n",
    "# without checking if it's a correct move.\n",
    "# It usually looses after a few moves when it attempts to make an incorrect move\n",
    "class SampleBot:\n",
    "    def make_move(self, board):\n",
    "        piece = board.whites[0]\n",
    "        return [piece.position(), piece.position().add(1, 1)]"
   ]
  },
  {
   "cell_type": "code",
   "execution_count": null,
   "id": "basic-carter",
   "metadata": {},
   "outputs": [],
   "source": [
    "class SampleBotOne:\n",
    "    def make_move(self, board):\n",
    "        if board.whites.length > 0:\n",
    "            piece = board.whites[1]\n",
    "        else:\n",
    "            piece = board.whites[0]\n",
    "        return [piece.position(), piece.position().add(1, 1)]"
   ]
  },
  {
   "cell_type": "code",
   "execution_count": null,
   "id": "abandoned-robin",
   "metadata": {},
   "outputs": [],
   "source": []
  },
  {
   "cell_type": "code",
   "execution_count": 1,
   "id": "appreciated-trader",
   "metadata": {
    "scrolled": false
   },
   "outputs": [
    {
     "ename": "NameError",
     "evalue": "name 'MinMaxBot' is not defined",
     "output_type": "error",
     "traceback": [
      "\u001b[1;31m---------------------------------------------------------------------------\u001b[0m",
      "\u001b[1;31mNameError\u001b[0m                                 Traceback (most recent call last)",
      "\u001b[1;32m~\\AppData\\Local\\Temp/ipykernel_26120/3483396159.py\u001b[0m in \u001b[0;36m<module>\u001b[1;34m\u001b[0m\n\u001b[0;32m      1\u001b[0m \u001b[1;31m# Suppose you have classes SampleBot, SampleBotOne and want them to play against each other. Run:\u001b[0m\u001b[1;33m\u001b[0m\u001b[1;33m\u001b[0m\u001b[1;33m\u001b[0m\u001b[0m\n\u001b[1;32m----> 2\u001b[1;33m \u001b[0mbot\u001b[0m \u001b[1;33m=\u001b[0m \u001b[0mMinMaxBot\u001b[0m\u001b[1;33m(\u001b[0m\u001b[1;33m)\u001b[0m\u001b[1;33m\u001b[0m\u001b[1;33m\u001b[0m\u001b[0m\n\u001b[0m\u001b[0;32m      3\u001b[0m \u001b[0mbotOne\u001b[0m \u001b[1;33m=\u001b[0m \u001b[0mMinMaxBot\u001b[0m\u001b[1;33m(\u001b[0m\u001b[1;33m)\u001b[0m\u001b[1;33m\u001b[0m\u001b[1;33m\u001b[0m\u001b[0m\n\u001b[0;32m      4\u001b[0m \u001b[0mgame\u001b[0m \u001b[1;33m=\u001b[0m \u001b[0mGame\u001b[0m\u001b[1;33m(\u001b[0m\u001b[0mbot\u001b[0m\u001b[1;33m,\u001b[0m \u001b[0mbotOne\u001b[0m\u001b[1;33m)\u001b[0m\u001b[1;33m\u001b[0m\u001b[1;33m\u001b[0m\u001b[0m\n\u001b[0;32m      5\u001b[0m \u001b[0mgame\u001b[0m\u001b[1;33m.\u001b[0m\u001b[0mplay_bots\u001b[0m\u001b[1;33m(\u001b[0m\u001b[1;32mTrue\u001b[0m\u001b[1;33m)\u001b[0m\u001b[1;33m\u001b[0m\u001b[1;33m\u001b[0m\u001b[0m\n",
      "\u001b[1;31mNameError\u001b[0m: name 'MinMaxBot' is not defined"
     ]
    }
   ],
   "source": [
    "# Suppose you have classes SampleBot, SampleBotOne and want them to play against each other. Run:\n",
    "bot = MinMaxBot()\n",
    "botOne = MinMaxBot()\n",
    "game = Game(bot, botOne)\n",
    "game.play_bots(True)"
   ]
  },
  {
   "cell_type": "code",
   "execution_count": null,
   "id": "3f4820a9",
   "metadata": {},
   "outputs": [],
   "source": []
  },
  {
   "cell_type": "code",
   "execution_count": null,
   "id": "greek-reporter",
   "metadata": {
    "scrolled": false
   },
   "outputs": [],
   "source": [
    "board=Board()\n",
    "board=board.empty_board()\n",
    "#board.world[7][7]=board.newWhite(7,7)\n",
    "#board.world[2][4]=board.newWhite(2,4)\n",
    "board.world[5][3]=board.newWhite(5,3)\n",
    "board.world[6][4]=board.newBlack(6,4)\n",
    "board.world[6][6]=board.newBlack(6,6)\n",
    "# board.world[2][8]=None\n",
    "# for white in board.whites:\n",
    "#     if white.x==8 and white.y==2:\n",
    "#         board.whites.remove(white)\n",
    "        \n",
    "# board.world[8][8]=None\n",
    "# for white in board.blacks:\n",
    "#     if white.x==8 and white.y==8:\n",
    "#         board.blacks.remove(white)\n",
    "#     if(white.x==7 and white.y==7):\n",
    "#         board.world[7][7]=board.newWhite(7,7)\n",
    "#         board.blacks.remove(white)\n",
    "    \n",
    "#board.world[6][6]=board.newBlack(6,6)\n",
    "moves=board.PossibleMoves()\n",
    "for move in moves:\n",
    "    board.make_move(move).show()\n",
    "#print(moves)\n",
    "print(len(moves))"
   ]
  },
  {
   "cell_type": "code",
   "execution_count": null,
   "id": "gorgeous-philadelphia",
   "metadata": {},
   "outputs": [],
   "source": [
    "# Suppose you have a class SampleBot and want to play againt it. Run:\n",
    "bot = MinMaxBot()\n",
    "game = Game(bot, None)\n",
    "game.play_human(False, True)\n",
    "\n",
    "# When you are asked to specify your move in a textfield, specify it similarly as in a bot.\n",
    "# However, don't wrap the locations into Positions class or a list - just list the numbers.\n",
    "# For instance, to move from position (2, 0) to position (3, 1) just type: 2 0 3 1\n",
    "# Also, remember that we firstly specify the row number and then the column number\n",
    "# and that the upper-left field is (0, 0)"
   ]
  },
  {
   "cell_type": "code",
   "execution_count": null,
   "id": "demanding-correspondence",
   "metadata": {},
   "outputs": [],
   "source": []
  },
  {
   "cell_type": "code",
   "execution_count": null,
   "id": "typical-principal",
   "metadata": {},
   "outputs": [],
   "source": []
  },
  {
   "cell_type": "code",
   "execution_count": null,
   "id": "enhanced-finnish",
   "metadata": {},
   "outputs": [],
   "source": []
  },
  {
   "cell_type": "code",
   "execution_count": null,
   "id": "8cebd4a5",
   "metadata": {},
   "outputs": [],
   "source": []
  }
 ],
 "metadata": {
  "kernelspec": {
   "display_name": "Python 3 (ipykernel)",
   "language": "python",
   "name": "python3"
  },
  "language_info": {
   "codemirror_mode": {
    "name": "ipython",
    "version": 3
   },
   "file_extension": ".py",
   "mimetype": "text/x-python",
   "name": "python",
   "nbconvert_exporter": "python",
   "pygments_lexer": "ipython3",
   "version": "3.7.8"
  }
 },
 "nbformat": 4,
 "nbformat_minor": 5
}
